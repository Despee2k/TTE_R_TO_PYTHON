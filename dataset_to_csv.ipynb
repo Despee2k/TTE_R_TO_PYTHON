{
 "cells": [
  {
   "cell_type": "markdown",
   "id": "695c6b63",
   "metadata": {},
   "source": [
    "# Installation\n",
    "\n",
    "The package is available on CRAN:\n",
    "```r\n",
    "install.packages('TrialEmulation')\n",
    "\n",
    "```\n",
    "\n",
    "Refer to:  \n",
    "[TTE Docs](https://cran.r-project.org/web/packages/TrialEmulation/index.html)  \n",
    "[TTE Github](https://github.com/Causal-LDA/TrialEmulation)"
   ]
  },
  {
   "cell_type": "code",
   "execution_count": 7,
   "id": "21505dc8",
   "metadata": {},
   "outputs": [],
   "source": [
    "# Load the package\n",
    "library(TrialEmulation)\n",
    "\n",
    "# Save the dataset into csv\n",
    "write.csv(data_censored, \"data_censored.csv\")\n",
    "head(data_censored)"
   ]
  },
  {
   "cell_type": "code",
   "execution_count": null,
   "id": "b48b552b",
   "metadata": {},
   "outputs": [],
   "source": []
  }
 ],
 "metadata": {
  "kernelspec": {
   "display_name": "R",
   "language": "R",
   "name": "ir"
  },
  "language_info": {
   "codemirror_mode": "r",
   "file_extension": ".r",
   "mimetype": "text/x-r-source",
   "name": "R",
   "pygments_lexer": "r",
   "version": "4.4.2"
  }
 },
 "nbformat": 4,
 "nbformat_minor": 5
}
