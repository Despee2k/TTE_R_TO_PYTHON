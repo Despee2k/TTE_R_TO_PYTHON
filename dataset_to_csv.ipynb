{
 "cells": [
  {
   "cell_type": "markdown",
   "id": "695c6b63",
   "metadata": {},
   "source": [
    "# Installation\n",
    "\n",
    "The package is available on CRAN:\n",
    "```r\n",
    "install.packages('TrialEmulation')\n",
    "\n",
    "```\n",
    "\n",
    "Refer to:  \n",
    "[TTE Docs](https://cran.r-project.org/web/packages/TrialEmulation/index.html)  \n",
    "[TTE Github](https://github.com/Causal-LDA/TrialEmulation)"
   ]
  },
  {
   "cell_type": "code",
   "execution_count": 8,
   "id": "21505dc8",
   "metadata": {},
   "outputs": [
    {
     "data": {
      "text/html": [
       "<table class=\"dataframe\">\n",
       "<caption>A data.frame: 6 × 12</caption>\n",
       "<thead>\n",
       "\t<tr><th></th><th scope=col>id</th><th scope=col>period</th><th scope=col>treatment</th><th scope=col>x1</th><th scope=col>x2</th><th scope=col>x3</th><th scope=col>x4</th><th scope=col>age</th><th scope=col>age_s</th><th scope=col>outcome</th><th scope=col>censored</th><th scope=col>eligible</th></tr>\n",
       "\t<tr><th></th><th scope=col>&lt;int&gt;</th><th scope=col>&lt;int&gt;</th><th scope=col>&lt;dbl&gt;</th><th scope=col>&lt;dbl&gt;</th><th scope=col>&lt;dbl&gt;</th><th scope=col>&lt;int&gt;</th><th scope=col>&lt;dbl&gt;</th><th scope=col>&lt;dbl&gt;</th><th scope=col>&lt;dbl&gt;</th><th scope=col>&lt;dbl&gt;</th><th scope=col>&lt;int&gt;</th><th scope=col>&lt;dbl&gt;</th></tr>\n",
       "</thead>\n",
       "<tbody>\n",
       "\t<tr><th scope=row>1</th><td>1</td><td>0</td><td>1</td><td>1</td><td> 1.146148362</td><td>0</td><td>0.734203</td><td>36</td><td>0.08333333</td><td>0</td><td>0</td><td>1</td></tr>\n",
       "\t<tr><th scope=row>2</th><td>1</td><td>1</td><td>1</td><td>1</td><td> 0.002200337</td><td>0</td><td>0.734203</td><td>37</td><td>0.16666667</td><td>0</td><td>0</td><td>0</td></tr>\n",
       "\t<tr><th scope=row>3</th><td>1</td><td>2</td><td>1</td><td>0</td><td>-0.481762418</td><td>0</td><td>0.734203</td><td>38</td><td>0.25000000</td><td>0</td><td>0</td><td>0</td></tr>\n",
       "\t<tr><th scope=row>4</th><td>1</td><td>3</td><td>1</td><td>0</td><td> 0.007872396</td><td>0</td><td>0.734203</td><td>39</td><td>0.33333333</td><td>0</td><td>0</td><td>0</td></tr>\n",
       "\t<tr><th scope=row>5</th><td>1</td><td>4</td><td>1</td><td>1</td><td> 0.216053715</td><td>0</td><td>0.734203</td><td>40</td><td>0.41666667</td><td>0</td><td>0</td><td>0</td></tr>\n",
       "\t<tr><th scope=row>6</th><td>1</td><td>5</td><td>1</td><td>0</td><td>-0.057481504</td><td>0</td><td>0.734203</td><td>41</td><td>0.50000000</td><td>0</td><td>1</td><td>0</td></tr>\n",
       "</tbody>\n",
       "</table>\n"
      ],
      "text/latex": [
       "A data.frame: 6 × 12\n",
       "\\begin{tabular}{r|llllllllllll}\n",
       "  & id & period & treatment & x1 & x2 & x3 & x4 & age & age\\_s & outcome & censored & eligible\\\\\n",
       "  & <int> & <int> & <dbl> & <dbl> & <dbl> & <int> & <dbl> & <dbl> & <dbl> & <dbl> & <int> & <dbl>\\\\\n",
       "\\hline\n",
       "\t1 & 1 & 0 & 1 & 1 &  1.146148362 & 0 & 0.734203 & 36 & 0.08333333 & 0 & 0 & 1\\\\\n",
       "\t2 & 1 & 1 & 1 & 1 &  0.002200337 & 0 & 0.734203 & 37 & 0.16666667 & 0 & 0 & 0\\\\\n",
       "\t3 & 1 & 2 & 1 & 0 & -0.481762418 & 0 & 0.734203 & 38 & 0.25000000 & 0 & 0 & 0\\\\\n",
       "\t4 & 1 & 3 & 1 & 0 &  0.007872396 & 0 & 0.734203 & 39 & 0.33333333 & 0 & 0 & 0\\\\\n",
       "\t5 & 1 & 4 & 1 & 1 &  0.216053715 & 0 & 0.734203 & 40 & 0.41666667 & 0 & 0 & 0\\\\\n",
       "\t6 & 1 & 5 & 1 & 0 & -0.057481504 & 0 & 0.734203 & 41 & 0.50000000 & 0 & 1 & 0\\\\\n",
       "\\end{tabular}\n"
      ],
      "text/markdown": [
       "\n",
       "A data.frame: 6 × 12\n",
       "\n",
       "| <!--/--> | id &lt;int&gt; | period &lt;int&gt; | treatment &lt;dbl&gt; | x1 &lt;dbl&gt; | x2 &lt;dbl&gt; | x3 &lt;int&gt; | x4 &lt;dbl&gt; | age &lt;dbl&gt; | age_s &lt;dbl&gt; | outcome &lt;dbl&gt; | censored &lt;int&gt; | eligible &lt;dbl&gt; |\n",
       "|---|---|---|---|---|---|---|---|---|---|---|---|---|\n",
       "| 1 | 1 | 0 | 1 | 1 |  1.146148362 | 0 | 0.734203 | 36 | 0.08333333 | 0 | 0 | 1 |\n",
       "| 2 | 1 | 1 | 1 | 1 |  0.002200337 | 0 | 0.734203 | 37 | 0.16666667 | 0 | 0 | 0 |\n",
       "| 3 | 1 | 2 | 1 | 0 | -0.481762418 | 0 | 0.734203 | 38 | 0.25000000 | 0 | 0 | 0 |\n",
       "| 4 | 1 | 3 | 1 | 0 |  0.007872396 | 0 | 0.734203 | 39 | 0.33333333 | 0 | 0 | 0 |\n",
       "| 5 | 1 | 4 | 1 | 1 |  0.216053715 | 0 | 0.734203 | 40 | 0.41666667 | 0 | 0 | 0 |\n",
       "| 6 | 1 | 5 | 1 | 0 | -0.057481504 | 0 | 0.734203 | 41 | 0.50000000 | 0 | 1 | 0 |\n",
       "\n"
      ],
      "text/plain": [
       "  id period treatment x1 x2           x3 x4       age age_s      outcome\n",
       "1 1  0      1         1   1.146148362 0  0.734203 36  0.08333333 0      \n",
       "2 1  1      1         1   0.002200337 0  0.734203 37  0.16666667 0      \n",
       "3 1  2      1         0  -0.481762418 0  0.734203 38  0.25000000 0      \n",
       "4 1  3      1         0   0.007872396 0  0.734203 39  0.33333333 0      \n",
       "5 1  4      1         1   0.216053715 0  0.734203 40  0.41666667 0      \n",
       "6 1  5      1         0  -0.057481504 0  0.734203 41  0.50000000 0      \n",
       "  censored eligible\n",
       "1 0        1       \n",
       "2 0        0       \n",
       "3 0        0       \n",
       "4 0        0       \n",
       "5 0        0       \n",
       "6 1        0       "
      ]
     },
     "metadata": {},
     "output_type": "display_data"
    }
   ],
   "source": [
    "# Load the package\n",
    "library(TrialEmulation)\n",
    "\n",
    "# Save the dataset into csv\n",
    "write.csv(data_censored, \"data_censored.csv\")\n",
    "\n",
    "head(data_censored)"
   ]
  }
 ],
 "metadata": {
  "kernelspec": {
   "display_name": "R",
   "language": "R",
   "name": "ir"
  },
  "language_info": {
   "codemirror_mode": "r",
   "file_extension": ".r",
   "mimetype": "text/x-r-source",
   "name": "R",
   "pygments_lexer": "r",
   "version": "4.4.2"
  }
 },
 "nbformat": 4,
 "nbformat_minor": 5
}
